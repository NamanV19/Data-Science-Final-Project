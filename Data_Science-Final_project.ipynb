{
  "nbformat": 4,
  "nbformat_minor": 0,
  "metadata": {
    "colab": {
      "name": "Copy of Data Science - Final project.ipynb",
      "provenance": [],
      "collapsed_sections": []
    },
    "kernelspec": {
      "display_name": "Python 3",
      "name": "python3"
    }
  },
  "cells": [
    {
      "cell_type": "code",
      "metadata": {
        "id": "yhpolnAU_TGU"
      },
      "source": [
        "from sklearn.svm import SVR\n",
        "import pandas as pd\n",
        "import random\n",
        "import numpy as np\n",
        "import matplotlib.pyplot as plt\n",
        "from plotnine import *\n",
        "from sklearn.model_selection import train_test_split \n",
        "import seaborn as sns\n",
        "from pandas_datareader import data\n",
        "import datetime as dt\n",
        "import urllib.request, json\n",
        "import os\n",
        "import tensorflow as tf # This code has been tested with TensorFlow 1.6\n",
        "from sklearn.preprocessing import MinMaxScaler"
      ],
      "execution_count": 143,
      "outputs": []
    },
    {
      "cell_type": "markdown",
      "metadata": {
        "id": "wJANEEfhHzZo"
      },
      "source": [
        "**Loading the Dataset**"
      ]
    },
    {
      "cell_type": "markdown",
      "metadata": {
        "id": "PYe1xcYnO60k"
      },
      "source": [
        "Since we put our datasets to our Google Drive. We mount the datasets from Google Drive to access the dataset, or you can download the Datasets from the [original source.](https://www.kaggle.com/salwaalzahrani/saudi-stock-exchange-tadawul)"
      ]
    },
    {
      "cell_type": "code",
      "metadata": {
        "id": "e6Dd-C5JKPuO",
        "colab": {
          "base_uri": "https://localhost:8080/"
        },
        "outputId": "0658c5be-1291-44d0-e173-5b0e96dad559"
      },
      "source": [
        "from google.colab import drive\n",
        "drive.mount('/content/drive')"
      ],
      "execution_count": 144,
      "outputs": [
        {
          "output_type": "stream",
          "text": [
            "Drive already mounted at /content/drive; to attempt to forcibly remount, call drive.mount(\"/content/drive\", force_remount=True).\n"
          ],
          "name": "stdout"
        }
      ]
    },
    {
      "cell_type": "code",
      "metadata": {
        "colab": {
          "base_uri": "https://localhost:8080/",
          "height": 411
        },
        "id": "Sp3JPsHsSJHI",
        "outputId": "2b1a85db-c9ab-4b46-8b97-1e5b6ae6e003"
      },
      "source": [
        "# Loading the dataset \"Tadawul_stcks.csv\" from a folder in google drive and converting it into dataframe.\n",
        "df = pd.read_csv(\"/content/drive/MyDrive/Data Science/Dataset/Tadawul_stcks.csv\")\n",
        "# Printing the dataset.\n",
        "df"
      ],
      "execution_count": 145,
      "outputs": [
        {
          "output_type": "execute_result",
          "data": {
            "text/html": [
              "<div>\n",
              "<style scoped>\n",
              "    .dataframe tbody tr th:only-of-type {\n",
              "        vertical-align: middle;\n",
              "    }\n",
              "\n",
              "    .dataframe tbody tr th {\n",
              "        vertical-align: top;\n",
              "    }\n",
              "\n",
              "    .dataframe thead th {\n",
              "        text-align: right;\n",
              "    }\n",
              "</style>\n",
              "<table border=\"1\" class=\"dataframe\">\n",
              "  <thead>\n",
              "    <tr style=\"text-align: right;\">\n",
              "      <th></th>\n",
              "      <th>symbol</th>\n",
              "      <th>name</th>\n",
              "      <th>trading_name</th>\n",
              "      <th>sectoer</th>\n",
              "      <th>date</th>\n",
              "      <th>open</th>\n",
              "      <th>high</th>\n",
              "      <th>low</th>\n",
              "      <th>close</th>\n",
              "      <th>change</th>\n",
              "      <th>perc_Change</th>\n",
              "      <th>volume_traded</th>\n",
              "      <th>value_traded</th>\n",
              "      <th>no_trades</th>\n",
              "    </tr>\n",
              "  </thead>\n",
              "  <tbody>\n",
              "    <tr>\n",
              "      <th>0</th>\n",
              "      <td>2030</td>\n",
              "      <td>Saudi Arabia Refineries Co.</td>\n",
              "      <td>SARCO</td>\n",
              "      <td>Energy</td>\n",
              "      <td>2020-03-05</td>\n",
              "      <td>35.55</td>\n",
              "      <td>35.85</td>\n",
              "      <td>34.90</td>\n",
              "      <td>34.90</td>\n",
              "      <td>-0.40</td>\n",
              "      <td>-1.13</td>\n",
              "      <td>436609.0</td>\n",
              "      <td>1.539907e+07</td>\n",
              "      <td>804.0</td>\n",
              "    </tr>\n",
              "    <tr>\n",
              "      <th>1</th>\n",
              "      <td>2030</td>\n",
              "      <td>Saudi Arabia Refineries Co.</td>\n",
              "      <td>SARCO</td>\n",
              "      <td>Energy</td>\n",
              "      <td>2020-03-04</td>\n",
              "      <td>34.70</td>\n",
              "      <td>35.65</td>\n",
              "      <td>34.50</td>\n",
              "      <td>35.30</td>\n",
              "      <td>0.25</td>\n",
              "      <td>0.71</td>\n",
              "      <td>737624.0</td>\n",
              "      <td>2.598139e+07</td>\n",
              "      <td>1268.0</td>\n",
              "    </tr>\n",
              "    <tr>\n",
              "      <th>2</th>\n",
              "      <td>2030</td>\n",
              "      <td>Saudi Arabia Refineries Co.</td>\n",
              "      <td>SARCO</td>\n",
              "      <td>Energy</td>\n",
              "      <td>2020-03-03</td>\n",
              "      <td>34.70</td>\n",
              "      <td>35.15</td>\n",
              "      <td>34.70</td>\n",
              "      <td>35.05</td>\n",
              "      <td>1.05</td>\n",
              "      <td>3.09</td>\n",
              "      <td>489831.0</td>\n",
              "      <td>1.711641e+07</td>\n",
              "      <td>854.0</td>\n",
              "    </tr>\n",
              "    <tr>\n",
              "      <th>3</th>\n",
              "      <td>2030</td>\n",
              "      <td>Saudi Arabia Refineries Co.</td>\n",
              "      <td>SARCO</td>\n",
              "      <td>Energy</td>\n",
              "      <td>2020-03-02</td>\n",
              "      <td>35.20</td>\n",
              "      <td>35.65</td>\n",
              "      <td>34.00</td>\n",
              "      <td>34.00</td>\n",
              "      <td>-0.55</td>\n",
              "      <td>-1.59</td>\n",
              "      <td>736157.0</td>\n",
              "      <td>2.585870e+07</td>\n",
              "      <td>1242.0</td>\n",
              "    </tr>\n",
              "    <tr>\n",
              "      <th>4</th>\n",
              "      <td>2030</td>\n",
              "      <td>Saudi Arabia Refineries Co.</td>\n",
              "      <td>SARCO</td>\n",
              "      <td>Energy</td>\n",
              "      <td>2020-03-01</td>\n",
              "      <td>35.35</td>\n",
              "      <td>35.60</td>\n",
              "      <td>34.25</td>\n",
              "      <td>34.55</td>\n",
              "      <td>-2.05</td>\n",
              "      <td>-5.60</td>\n",
              "      <td>738685.0</td>\n",
              "      <td>2.574797e+07</td>\n",
              "      <td>1625.0</td>\n",
              "    </tr>\n",
              "    <tr>\n",
              "      <th>...</th>\n",
              "      <td>...</td>\n",
              "      <td>...</td>\n",
              "      <td>...</td>\n",
              "      <td>...</td>\n",
              "      <td>...</td>\n",
              "      <td>...</td>\n",
              "      <td>...</td>\n",
              "      <td>...</td>\n",
              "      <td>...</td>\n",
              "      <td>...</td>\n",
              "      <td>...</td>\n",
              "      <td>...</td>\n",
              "      <td>...</td>\n",
              "      <td>...</td>\n",
              "    </tr>\n",
              "    <tr>\n",
              "      <th>593814</th>\n",
              "      <td>4321</td>\n",
              "      <td>Arabian Centres Co.</td>\n",
              "      <td>ALMRAKEZ</td>\n",
              "      <td>Real Estate</td>\n",
              "      <td>2019-05-28</td>\n",
              "      <td>22.90</td>\n",
              "      <td>22.90</td>\n",
              "      <td>21.62</td>\n",
              "      <td>22.50</td>\n",
              "      <td>0.00</td>\n",
              "      <td>0.00</td>\n",
              "      <td>1860532.0</td>\n",
              "      <td>4.149566e+07</td>\n",
              "      <td>2023.0</td>\n",
              "    </tr>\n",
              "    <tr>\n",
              "      <th>593815</th>\n",
              "      <td>4321</td>\n",
              "      <td>Arabian Centres Co.</td>\n",
              "      <td>ALMRAKEZ</td>\n",
              "      <td>Real Estate</td>\n",
              "      <td>2019-05-27</td>\n",
              "      <td>23.30</td>\n",
              "      <td>23.32</td>\n",
              "      <td>22.24</td>\n",
              "      <td>22.50</td>\n",
              "      <td>-0.84</td>\n",
              "      <td>-3.60</td>\n",
              "      <td>4905676.0</td>\n",
              "      <td>1.114168e+08</td>\n",
              "      <td>3259.0</td>\n",
              "    </tr>\n",
              "    <tr>\n",
              "      <th>593816</th>\n",
              "      <td>4321</td>\n",
              "      <td>Arabian Centres Co.</td>\n",
              "      <td>ALMRAKEZ</td>\n",
              "      <td>Real Estate</td>\n",
              "      <td>2019-05-26</td>\n",
              "      <td>24.60</td>\n",
              "      <td>24.60</td>\n",
              "      <td>23.30</td>\n",
              "      <td>23.34</td>\n",
              "      <td>-1.16</td>\n",
              "      <td>-4.73</td>\n",
              "      <td>3908215.0</td>\n",
              "      <td>9.269862e+07</td>\n",
              "      <td>2672.0</td>\n",
              "    </tr>\n",
              "    <tr>\n",
              "      <th>593817</th>\n",
              "      <td>4321</td>\n",
              "      <td>Arabian Centres Co.</td>\n",
              "      <td>ALMRAKEZ</td>\n",
              "      <td>Real Estate</td>\n",
              "      <td>2019-05-23</td>\n",
              "      <td>24.80</td>\n",
              "      <td>25.00</td>\n",
              "      <td>24.34</td>\n",
              "      <td>24.50</td>\n",
              "      <td>-0.50</td>\n",
              "      <td>-2.00</td>\n",
              "      <td>4078214.0</td>\n",
              "      <td>1.002221e+08</td>\n",
              "      <td>5571.0</td>\n",
              "    </tr>\n",
              "    <tr>\n",
              "      <th>593818</th>\n",
              "      <td>4321</td>\n",
              "      <td>Arabian Centres Co.</td>\n",
              "      <td>ALMRAKEZ</td>\n",
              "      <td>Real Estate</td>\n",
              "      <td>2019-05-22</td>\n",
              "      <td>26.00</td>\n",
              "      <td>26.10</td>\n",
              "      <td>23.60</td>\n",
              "      <td>25.00</td>\n",
              "      <td>-1.00</td>\n",
              "      <td>-3.85</td>\n",
              "      <td>14220388.0</td>\n",
              "      <td>3.502633e+08</td>\n",
              "      <td>7183.0</td>\n",
              "    </tr>\n",
              "  </tbody>\n",
              "</table>\n",
              "<p>593819 rows × 14 columns</p>\n",
              "</div>"
            ],
            "text/plain": [
              "        symbol                         name  ...  value_traded no_trades \n",
              "0         2030  Saudi Arabia Refineries Co.  ...  1.539907e+07      804.0\n",
              "1         2030  Saudi Arabia Refineries Co.  ...  2.598139e+07     1268.0\n",
              "2         2030  Saudi Arabia Refineries Co.  ...  1.711641e+07      854.0\n",
              "3         2030  Saudi Arabia Refineries Co.  ...  2.585870e+07     1242.0\n",
              "4         2030  Saudi Arabia Refineries Co.  ...  2.574797e+07     1625.0\n",
              "...        ...                          ...  ...           ...        ...\n",
              "593814    4321          Arabian Centres Co.  ...  4.149566e+07     2023.0\n",
              "593815    4321          Arabian Centres Co.  ...  1.114168e+08     3259.0\n",
              "593816    4321          Arabian Centres Co.  ...  9.269862e+07     2672.0\n",
              "593817    4321          Arabian Centres Co.  ...  1.002221e+08     5571.0\n",
              "593818    4321          Arabian Centres Co.  ...  3.502633e+08     7183.0\n",
              "\n",
              "[593819 rows x 14 columns]"
            ]
          },
          "metadata": {
            "tags": []
          },
          "execution_count": 145
        }
      ]
    },
    {
      "cell_type": "markdown",
      "metadata": {
        "id": "mvkYogtQHdhR"
      },
      "source": [
        "**Data Cleaning**"
      ]
    },
    {
      "cell_type": "code",
      "metadata": {
        "colab": {
          "base_uri": "https://localhost:8080/"
        },
        "id": "d69sluPwSQO2",
        "outputId": "42f6082b-4680-4394-a8be-865f234329ac"
      },
      "source": [
        "# Checking the number of null values within each column. \r\n",
        "print(df.isnull().sum())"
      ],
      "execution_count": 146,
      "outputs": [
        {
          "output_type": "stream",
          "text": [
            "symbol               0\n",
            "name                 0\n",
            "trading_name         0\n",
            "sectoer              0\n",
            "date                 0\n",
            "open              6455\n",
            "high              6697\n",
            "low               6697\n",
            "close                0\n",
            "change               0\n",
            "perc_Change          0\n",
            "volume_traded        0\n",
            "value_traded         0\n",
            "no_trades         7691\n",
            "dtype: int64\n"
          ],
          "name": "stdout"
        }
      ]
    },
    {
      "cell_type": "code",
      "metadata": {
        "colab": {
          "base_uri": "https://localhost:8080/",
          "height": 411
        },
        "id": "CHYtphsNSUXi",
        "outputId": "2b8a86cc-d8b0-44fe-c66a-3cc5d46b8667"
      },
      "source": [
        "# Data cleaning\n",
        "random.seed(3)\n",
        "\n",
        "# Dropping unnecessary columns such as 'symbol' and 'name'.\n",
        "df = df.drop(['symbol', 'name'], axis=1)\n",
        "# Discarding close columns with a value of 0.\n",
        "df = df[df.close != 0]\n",
        "\n",
        "# Replacing each null value of the 'high' column with a random value between the corresponding close value - 1 and the corresponding close value + 1.\n",
        "df['high'] = np.where(df['high'] == np.nan, df['close'], round(random.uniform(df['close']-1.0, df['close']+1.0), 2))\n",
        "# Replacing each null value of the 'low' column with any random value between the corresponding close value - 1 and the corresponding high value.\n",
        "df['low'] = np.where(df['low'] == np.nan, df['close'], round(random.uniform(df['close']-1.0, df['high']), 2))\n",
        "# Replacing each null value of the 'open' column with any random value between the corresponding low value and high value.\n",
        "df['open'] = np.where(df['open'] == np.nan, df['low'], round(random.uniform(df['low'], df['high']), 2))\n",
        "# df['change'] = np.where(df['change'] == 0, df['close'], round(abs(df['close'].diff(periods=-1)), 2))\n",
        "\n",
        "# Extracting rows with a 'trading_name ' of 'SARCO'. The number of rows is 4458.\n",
        "df = df[df['trading_name ']==\"SARCO\"]\n",
        "# Extracting rows with a 'trading_name ' of 'ABO MOATI'. The number of rows is 756.\n",
        "# df = df[df['trading_name ']==\"ABO MOATI\"]\n",
        "# Extracting rows with a 'trading_name ' of 'FARM SUPERSTORES\". The number of rows is 1514. \n",
        "# df = df[df['trading_name ']==\"FARM SUPERSTORES\"]\n",
        "\n",
        "# Sorting the rows based on the 'date' column.\n",
        "df = df.sort_values('date')\n",
        "df"
      ],
      "execution_count": 147,
      "outputs": [
        {
          "output_type": "execute_result",
          "data": {
            "text/html": [
              "<div>\n",
              "<style scoped>\n",
              "    .dataframe tbody tr th:only-of-type {\n",
              "        vertical-align: middle;\n",
              "    }\n",
              "\n",
              "    .dataframe tbody tr th {\n",
              "        vertical-align: top;\n",
              "    }\n",
              "\n",
              "    .dataframe thead th {\n",
              "        text-align: right;\n",
              "    }\n",
              "</style>\n",
              "<table border=\"1\" class=\"dataframe\">\n",
              "  <thead>\n",
              "    <tr style=\"text-align: right;\">\n",
              "      <th></th>\n",
              "      <th>trading_name</th>\n",
              "      <th>sectoer</th>\n",
              "      <th>date</th>\n",
              "      <th>open</th>\n",
              "      <th>high</th>\n",
              "      <th>low</th>\n",
              "      <th>close</th>\n",
              "      <th>change</th>\n",
              "      <th>perc_Change</th>\n",
              "      <th>volume_traded</th>\n",
              "      <th>value_traded</th>\n",
              "      <th>no_trades</th>\n",
              "    </tr>\n",
              "  </thead>\n",
              "  <tbody>\n",
              "    <tr>\n",
              "      <th>4457</th>\n",
              "      <td>SARCO</td>\n",
              "      <td>Energy</td>\n",
              "      <td>2002-01-23</td>\n",
              "      <td>5.64</td>\n",
              "      <td>5.78</td>\n",
              "      <td>5.56</td>\n",
              "      <td>6.30</td>\n",
              "      <td>6.30</td>\n",
              "      <td>0.00</td>\n",
              "      <td>6975.0</td>\n",
              "      <td>43089.00</td>\n",
              "      <td>4.0</td>\n",
              "    </tr>\n",
              "    <tr>\n",
              "      <th>4456</th>\n",
              "      <td>SARCO</td>\n",
              "      <td>Energy</td>\n",
              "      <td>2002-03-06</td>\n",
              "      <td>5.14</td>\n",
              "      <td>5.28</td>\n",
              "      <td>5.06</td>\n",
              "      <td>5.80</td>\n",
              "      <td>-0.50</td>\n",
              "      <td>-7.94</td>\n",
              "      <td>37500.0</td>\n",
              "      <td>218500.00</td>\n",
              "      <td>1.0</td>\n",
              "    </tr>\n",
              "    <tr>\n",
              "      <th>4455</th>\n",
              "      <td>SARCO</td>\n",
              "      <td>Energy</td>\n",
              "      <td>2002-03-09</td>\n",
              "      <td>5.14</td>\n",
              "      <td>5.28</td>\n",
              "      <td>5.06</td>\n",
              "      <td>5.80</td>\n",
              "      <td>0.00</td>\n",
              "      <td>0.00</td>\n",
              "      <td>75.0</td>\n",
              "      <td>435.00</td>\n",
              "      <td>1.0</td>\n",
              "    </tr>\n",
              "    <tr>\n",
              "      <th>4454</th>\n",
              "      <td>SARCO</td>\n",
              "      <td>Energy</td>\n",
              "      <td>2002-03-11</td>\n",
              "      <td>5.24</td>\n",
              "      <td>5.38</td>\n",
              "      <td>5.16</td>\n",
              "      <td>5.90</td>\n",
              "      <td>0.10</td>\n",
              "      <td>1.72</td>\n",
              "      <td>37500.0</td>\n",
              "      <td>220000.00</td>\n",
              "      <td>1.0</td>\n",
              "    </tr>\n",
              "    <tr>\n",
              "      <th>4453</th>\n",
              "      <td>SARCO</td>\n",
              "      <td>Energy</td>\n",
              "      <td>2002-03-13</td>\n",
              "      <td>5.24</td>\n",
              "      <td>5.38</td>\n",
              "      <td>5.16</td>\n",
              "      <td>5.90</td>\n",
              "      <td>0.00</td>\n",
              "      <td>0.00</td>\n",
              "      <td>1125.0</td>\n",
              "      <td>6600.00</td>\n",
              "      <td>1.0</td>\n",
              "    </tr>\n",
              "    <tr>\n",
              "      <th>...</th>\n",
              "      <td>...</td>\n",
              "      <td>...</td>\n",
              "      <td>...</td>\n",
              "      <td>...</td>\n",
              "      <td>...</td>\n",
              "      <td>...</td>\n",
              "      <td>...</td>\n",
              "      <td>...</td>\n",
              "      <td>...</td>\n",
              "      <td>...</td>\n",
              "      <td>...</td>\n",
              "      <td>...</td>\n",
              "    </tr>\n",
              "    <tr>\n",
              "      <th>4</th>\n",
              "      <td>SARCO</td>\n",
              "      <td>Energy</td>\n",
              "      <td>2020-03-01</td>\n",
              "      <td>33.89</td>\n",
              "      <td>34.03</td>\n",
              "      <td>33.81</td>\n",
              "      <td>34.55</td>\n",
              "      <td>-2.05</td>\n",
              "      <td>-5.60</td>\n",
              "      <td>738685.0</td>\n",
              "      <td>25747967.55</td>\n",
              "      <td>1625.0</td>\n",
              "    </tr>\n",
              "    <tr>\n",
              "      <th>3</th>\n",
              "      <td>SARCO</td>\n",
              "      <td>Energy</td>\n",
              "      <td>2020-03-02</td>\n",
              "      <td>33.34</td>\n",
              "      <td>33.48</td>\n",
              "      <td>33.26</td>\n",
              "      <td>34.00</td>\n",
              "      <td>-0.55</td>\n",
              "      <td>-1.59</td>\n",
              "      <td>736157.0</td>\n",
              "      <td>25858700.60</td>\n",
              "      <td>1242.0</td>\n",
              "    </tr>\n",
              "    <tr>\n",
              "      <th>2</th>\n",
              "      <td>SARCO</td>\n",
              "      <td>Energy</td>\n",
              "      <td>2020-03-03</td>\n",
              "      <td>34.39</td>\n",
              "      <td>34.53</td>\n",
              "      <td>34.31</td>\n",
              "      <td>35.05</td>\n",
              "      <td>1.05</td>\n",
              "      <td>3.09</td>\n",
              "      <td>489831.0</td>\n",
              "      <td>17116413.40</td>\n",
              "      <td>854.0</td>\n",
              "    </tr>\n",
              "    <tr>\n",
              "      <th>1</th>\n",
              "      <td>SARCO</td>\n",
              "      <td>Energy</td>\n",
              "      <td>2020-03-04</td>\n",
              "      <td>34.64</td>\n",
              "      <td>34.78</td>\n",
              "      <td>34.56</td>\n",
              "      <td>35.30</td>\n",
              "      <td>0.25</td>\n",
              "      <td>0.71</td>\n",
              "      <td>737624.0</td>\n",
              "      <td>25981391.35</td>\n",
              "      <td>1268.0</td>\n",
              "    </tr>\n",
              "    <tr>\n",
              "      <th>0</th>\n",
              "      <td>SARCO</td>\n",
              "      <td>Energy</td>\n",
              "      <td>2020-03-05</td>\n",
              "      <td>34.24</td>\n",
              "      <td>34.38</td>\n",
              "      <td>34.16</td>\n",
              "      <td>34.90</td>\n",
              "      <td>-0.40</td>\n",
              "      <td>-1.13</td>\n",
              "      <td>436609.0</td>\n",
              "      <td>15399073.50</td>\n",
              "      <td>804.0</td>\n",
              "    </tr>\n",
              "  </tbody>\n",
              "</table>\n",
              "<p>4458 rows × 12 columns</p>\n",
              "</div>"
            ],
            "text/plain": [
              "     trading_name  sectoer  ... value_traded  no_trades \n",
              "4457         SARCO  Energy  ...     43089.00         4.0\n",
              "4456         SARCO  Energy  ...    218500.00         1.0\n",
              "4455         SARCO  Energy  ...       435.00         1.0\n",
              "4454         SARCO  Energy  ...    220000.00         1.0\n",
              "4453         SARCO  Energy  ...      6600.00         1.0\n",
              "...            ...     ...  ...          ...         ...\n",
              "4            SARCO  Energy  ...  25747967.55      1625.0\n",
              "3            SARCO  Energy  ...  25858700.60      1242.0\n",
              "2            SARCO  Energy  ...  17116413.40       854.0\n",
              "1            SARCO  Energy  ...  25981391.35      1268.0\n",
              "0            SARCO  Energy  ...  15399073.50       804.0\n",
              "\n",
              "[4458 rows x 12 columns]"
            ]
          },
          "metadata": {
            "tags": []
          },
          "execution_count": 147
        }
      ]
    },
    {
      "cell_type": "markdown",
      "metadata": {
        "id": "b_iKNdwQH-uC"
      },
      "source": [
        "**Support Vector Regression - Trial**"
      ]
    },
    {
      "cell_type": "code",
      "metadata": {
        "colab": {
          "base_uri": "https://localhost:8080/",
          "height": 625
        },
        "id": "pVloZmyFTTBl",
        "outputId": "08ea2999-8ca6-4013-9a01-dacd85c3a1a1"
      },
      "source": [
        "df_trial = df[5:24]\n",
        "df_trial"
      ],
      "execution_count": 148,
      "outputs": [
        {
          "output_type": "execute_result",
          "data": {
            "text/html": [
              "<div>\n",
              "<style scoped>\n",
              "    .dataframe tbody tr th:only-of-type {\n",
              "        vertical-align: middle;\n",
              "    }\n",
              "\n",
              "    .dataframe tbody tr th {\n",
              "        vertical-align: top;\n",
              "    }\n",
              "\n",
              "    .dataframe thead th {\n",
              "        text-align: right;\n",
              "    }\n",
              "</style>\n",
              "<table border=\"1\" class=\"dataframe\">\n",
              "  <thead>\n",
              "    <tr style=\"text-align: right;\">\n",
              "      <th></th>\n",
              "      <th>trading_name</th>\n",
              "      <th>sectoer</th>\n",
              "      <th>date</th>\n",
              "      <th>open</th>\n",
              "      <th>high</th>\n",
              "      <th>low</th>\n",
              "      <th>close</th>\n",
              "      <th>change</th>\n",
              "      <th>perc_Change</th>\n",
              "      <th>volume_traded</th>\n",
              "      <th>value_traded</th>\n",
              "      <th>no_trades</th>\n",
              "    </tr>\n",
              "  </thead>\n",
              "  <tbody>\n",
              "    <tr>\n",
              "      <th>4452</th>\n",
              "      <td>SARCO</td>\n",
              "      <td>Energy</td>\n",
              "      <td>2002-03-16</td>\n",
              "      <td>5.24</td>\n",
              "      <td>5.38</td>\n",
              "      <td>5.16</td>\n",
              "      <td>5.9</td>\n",
              "      <td>0.0</td>\n",
              "      <td>0.00</td>\n",
              "      <td>75.0</td>\n",
              "      <td>444.0</td>\n",
              "      <td>1.0</td>\n",
              "    </tr>\n",
              "    <tr>\n",
              "      <th>4451</th>\n",
              "      <td>SARCO</td>\n",
              "      <td>Energy</td>\n",
              "      <td>2002-03-17</td>\n",
              "      <td>5.24</td>\n",
              "      <td>5.38</td>\n",
              "      <td>5.16</td>\n",
              "      <td>5.9</td>\n",
              "      <td>0.0</td>\n",
              "      <td>0.00</td>\n",
              "      <td>24208.0</td>\n",
              "      <td>142772.0</td>\n",
              "      <td>10.0</td>\n",
              "    </tr>\n",
              "    <tr>\n",
              "      <th>4450</th>\n",
              "      <td>SARCO</td>\n",
              "      <td>Energy</td>\n",
              "      <td>2002-03-20</td>\n",
              "      <td>5.24</td>\n",
              "      <td>5.38</td>\n",
              "      <td>5.16</td>\n",
              "      <td>5.9</td>\n",
              "      <td>0.0</td>\n",
              "      <td>0.00</td>\n",
              "      <td>113.0</td>\n",
              "      <td>660.0</td>\n",
              "      <td>1.0</td>\n",
              "    </tr>\n",
              "    <tr>\n",
              "      <th>4449</th>\n",
              "      <td>SARCO</td>\n",
              "      <td>Energy</td>\n",
              "      <td>2002-03-24</td>\n",
              "      <td>5.24</td>\n",
              "      <td>5.38</td>\n",
              "      <td>5.16</td>\n",
              "      <td>5.9</td>\n",
              "      <td>0.0</td>\n",
              "      <td>0.00</td>\n",
              "      <td>750.0</td>\n",
              "      <td>4400.0</td>\n",
              "      <td>1.0</td>\n",
              "    </tr>\n",
              "    <tr>\n",
              "      <th>4448</th>\n",
              "      <td>SARCO</td>\n",
              "      <td>Energy</td>\n",
              "      <td>2002-03-25</td>\n",
              "      <td>5.24</td>\n",
              "      <td>5.38</td>\n",
              "      <td>5.16</td>\n",
              "      <td>5.9</td>\n",
              "      <td>0.0</td>\n",
              "      <td>0.00</td>\n",
              "      <td>32813.0</td>\n",
              "      <td>192500.0</td>\n",
              "      <td>3.0</td>\n",
              "    </tr>\n",
              "    <tr>\n",
              "      <th>4447</th>\n",
              "      <td>SARCO</td>\n",
              "      <td>Energy</td>\n",
              "      <td>2002-03-27</td>\n",
              "      <td>5.24</td>\n",
              "      <td>5.38</td>\n",
              "      <td>5.16</td>\n",
              "      <td>5.9</td>\n",
              "      <td>0.0</td>\n",
              "      <td>0.00</td>\n",
              "      <td>938.0</td>\n",
              "      <td>5650.0</td>\n",
              "      <td>1.0</td>\n",
              "    </tr>\n",
              "    <tr>\n",
              "      <th>4446</th>\n",
              "      <td>SARCO</td>\n",
              "      <td>Energy</td>\n",
              "      <td>2002-03-30</td>\n",
              "      <td>5.24</td>\n",
              "      <td>5.38</td>\n",
              "      <td>5.16</td>\n",
              "      <td>5.9</td>\n",
              "      <td>0.0</td>\n",
              "      <td>0.00</td>\n",
              "      <td>9375.0</td>\n",
              "      <td>54875.0</td>\n",
              "      <td>1.0</td>\n",
              "    </tr>\n",
              "    <tr>\n",
              "      <th>4445</th>\n",
              "      <td>SARCO</td>\n",
              "      <td>Energy</td>\n",
              "      <td>2002-04-07</td>\n",
              "      <td>5.24</td>\n",
              "      <td>5.38</td>\n",
              "      <td>5.16</td>\n",
              "      <td>5.9</td>\n",
              "      <td>0.0</td>\n",
              "      <td>0.00</td>\n",
              "      <td>938.0</td>\n",
              "      <td>5650.0</td>\n",
              "      <td>1.0</td>\n",
              "    </tr>\n",
              "    <tr>\n",
              "      <th>4444</th>\n",
              "      <td>SARCO</td>\n",
              "      <td>Energy</td>\n",
              "      <td>2002-04-08</td>\n",
              "      <td>5.44</td>\n",
              "      <td>5.58</td>\n",
              "      <td>5.36</td>\n",
              "      <td>6.1</td>\n",
              "      <td>0.2</td>\n",
              "      <td>3.39</td>\n",
              "      <td>35625.0</td>\n",
              "      <td>215275.0</td>\n",
              "      <td>4.0</td>\n",
              "    </tr>\n",
              "    <tr>\n",
              "      <th>4443</th>\n",
              "      <td>SARCO</td>\n",
              "      <td>Energy</td>\n",
              "      <td>2002-04-10</td>\n",
              "      <td>5.24</td>\n",
              "      <td>5.38</td>\n",
              "      <td>5.16</td>\n",
              "      <td>5.9</td>\n",
              "      <td>-0.2</td>\n",
              "      <td>-3.28</td>\n",
              "      <td>27188.0</td>\n",
              "      <td>159650.0</td>\n",
              "      <td>4.0</td>\n",
              "    </tr>\n",
              "    <tr>\n",
              "      <th>4442</th>\n",
              "      <td>SARCO</td>\n",
              "      <td>Energy</td>\n",
              "      <td>2002-04-16</td>\n",
              "      <td>5.24</td>\n",
              "      <td>5.38</td>\n",
              "      <td>5.16</td>\n",
              "      <td>5.9</td>\n",
              "      <td>0.0</td>\n",
              "      <td>0.00</td>\n",
              "      <td>1070.0</td>\n",
              "      <td>6441.0</td>\n",
              "      <td>1.0</td>\n",
              "    </tr>\n",
              "    <tr>\n",
              "      <th>4441</th>\n",
              "      <td>SARCO</td>\n",
              "      <td>Energy</td>\n",
              "      <td>2002-04-21</td>\n",
              "      <td>5.24</td>\n",
              "      <td>5.38</td>\n",
              "      <td>5.16</td>\n",
              "      <td>5.9</td>\n",
              "      <td>0.0</td>\n",
              "      <td>0.00</td>\n",
              "      <td>3113.0</td>\n",
              "      <td>18426.0</td>\n",
              "      <td>3.0</td>\n",
              "    </tr>\n",
              "    <tr>\n",
              "      <th>4440</th>\n",
              "      <td>SARCO</td>\n",
              "      <td>Energy</td>\n",
              "      <td>2002-04-23</td>\n",
              "      <td>5.24</td>\n",
              "      <td>5.38</td>\n",
              "      <td>5.16</td>\n",
              "      <td>5.9</td>\n",
              "      <td>0.0</td>\n",
              "      <td>0.00</td>\n",
              "      <td>9375.0</td>\n",
              "      <td>55500.0</td>\n",
              "      <td>1.0</td>\n",
              "    </tr>\n",
              "    <tr>\n",
              "      <th>4439</th>\n",
              "      <td>SARCO</td>\n",
              "      <td>Energy</td>\n",
              "      <td>2002-04-27</td>\n",
              "      <td>5.14</td>\n",
              "      <td>5.28</td>\n",
              "      <td>5.06</td>\n",
              "      <td>5.8</td>\n",
              "      <td>-0.1</td>\n",
              "      <td>-1.69</td>\n",
              "      <td>26250.0</td>\n",
              "      <td>151550.0</td>\n",
              "      <td>1.0</td>\n",
              "    </tr>\n",
              "    <tr>\n",
              "      <th>4438</th>\n",
              "      <td>SARCO</td>\n",
              "      <td>Energy</td>\n",
              "      <td>2002-04-29</td>\n",
              "      <td>5.14</td>\n",
              "      <td>5.28</td>\n",
              "      <td>5.06</td>\n",
              "      <td>5.8</td>\n",
              "      <td>0.0</td>\n",
              "      <td>0.00</td>\n",
              "      <td>4388.0</td>\n",
              "      <td>25506.0</td>\n",
              "      <td>1.0</td>\n",
              "    </tr>\n",
              "    <tr>\n",
              "      <th>4437</th>\n",
              "      <td>SARCO</td>\n",
              "      <td>Energy</td>\n",
              "      <td>2002-04-30</td>\n",
              "      <td>5.14</td>\n",
              "      <td>5.28</td>\n",
              "      <td>5.06</td>\n",
              "      <td>5.8</td>\n",
              "      <td>0.0</td>\n",
              "      <td>0.00</td>\n",
              "      <td>17683.0</td>\n",
              "      <td>102348.5</td>\n",
              "      <td>2.0</td>\n",
              "    </tr>\n",
              "    <tr>\n",
              "      <th>4436</th>\n",
              "      <td>SARCO</td>\n",
              "      <td>Energy</td>\n",
              "      <td>2002-05-02</td>\n",
              "      <td>5.44</td>\n",
              "      <td>5.58</td>\n",
              "      <td>5.36</td>\n",
              "      <td>6.1</td>\n",
              "      <td>0.3</td>\n",
              "      <td>5.17</td>\n",
              "      <td>22050.0</td>\n",
              "      <td>130989.0</td>\n",
              "      <td>5.0</td>\n",
              "    </tr>\n",
              "    <tr>\n",
              "      <th>4435</th>\n",
              "      <td>SARCO</td>\n",
              "      <td>Energy</td>\n",
              "      <td>2002-05-04</td>\n",
              "      <td>5.44</td>\n",
              "      <td>5.58</td>\n",
              "      <td>5.36</td>\n",
              "      <td>6.1</td>\n",
              "      <td>0.0</td>\n",
              "      <td>0.00</td>\n",
              "      <td>9433.0</td>\n",
              "      <td>57238.5</td>\n",
              "      <td>3.0</td>\n",
              "    </tr>\n",
              "    <tr>\n",
              "      <th>4434</th>\n",
              "      <td>SARCO</td>\n",
              "      <td>Energy</td>\n",
              "      <td>2002-05-11</td>\n",
              "      <td>5.44</td>\n",
              "      <td>5.58</td>\n",
              "      <td>5.36</td>\n",
              "      <td>6.1</td>\n",
              "      <td>0.0</td>\n",
              "      <td>0.00</td>\n",
              "      <td>2813.0</td>\n",
              "      <td>17100.0</td>\n",
              "      <td>1.0</td>\n",
              "    </tr>\n",
              "  </tbody>\n",
              "</table>\n",
              "</div>"
            ],
            "text/plain": [
              "     trading_name  sectoer  ... value_traded  no_trades \n",
              "4452         SARCO  Energy  ...        444.0         1.0\n",
              "4451         SARCO  Energy  ...     142772.0        10.0\n",
              "4450         SARCO  Energy  ...        660.0         1.0\n",
              "4449         SARCO  Energy  ...       4400.0         1.0\n",
              "4448         SARCO  Energy  ...     192500.0         3.0\n",
              "4447         SARCO  Energy  ...       5650.0         1.0\n",
              "4446         SARCO  Energy  ...      54875.0         1.0\n",
              "4445         SARCO  Energy  ...       5650.0         1.0\n",
              "4444         SARCO  Energy  ...     215275.0         4.0\n",
              "4443         SARCO  Energy  ...     159650.0         4.0\n",
              "4442         SARCO  Energy  ...       6441.0         1.0\n",
              "4441         SARCO  Energy  ...      18426.0         3.0\n",
              "4440         SARCO  Energy  ...      55500.0         1.0\n",
              "4439         SARCO  Energy  ...     151550.0         1.0\n",
              "4438         SARCO  Energy  ...      25506.0         1.0\n",
              "4437         SARCO  Energy  ...     102348.5         2.0\n",
              "4436         SARCO  Energy  ...     130989.0         5.0\n",
              "4435         SARCO  Energy  ...      57238.5         3.0\n",
              "4434         SARCO  Energy  ...      17100.0         1.0\n",
              "\n",
              "[19 rows x 12 columns]"
            ]
          },
          "metadata": {
            "tags": []
          },
          "execution_count": 148
        }
      ]
    },
    {
      "cell_type": "code",
      "metadata": {
        "id": "WiAHoCSDTqVO",
        "colab": {
          "base_uri": "https://localhost:8080/",
          "height": 78
        },
        "outputId": "9185d752-c975-4a73-dfb0-80a4b916cc05"
      },
      "source": [
        "true_data = df_trial.loc[[4434]]\n",
        "true_data\n"
      ],
      "execution_count": null,
      "outputs": [
        {
          "output_type": "execute_result",
          "data": {
            "text/html": [
              "<div>\n",
              "<style scoped>\n",
              "    .dataframe tbody tr th:only-of-type {\n",
              "        vertical-align: middle;\n",
              "    }\n",
              "\n",
              "    .dataframe tbody tr th {\n",
              "        vertical-align: top;\n",
              "    }\n",
              "\n",
              "    .dataframe thead th {\n",
              "        text-align: right;\n",
              "    }\n",
              "</style>\n",
              "<table border=\"1\" class=\"dataframe\">\n",
              "  <thead>\n",
              "    <tr style=\"text-align: right;\">\n",
              "      <th></th>\n",
              "      <th>trading_name</th>\n",
              "      <th>sectoer</th>\n",
              "      <th>date</th>\n",
              "      <th>open</th>\n",
              "      <th>high</th>\n",
              "      <th>low</th>\n",
              "      <th>close</th>\n",
              "      <th>change</th>\n",
              "      <th>perc_Change</th>\n",
              "      <th>volume_traded</th>\n",
              "      <th>value_traded</th>\n",
              "      <th>no_trades</th>\n",
              "    </tr>\n",
              "  </thead>\n",
              "  <tbody>\n",
              "    <tr>\n",
              "      <th>4434</th>\n",
              "      <td>SARCO</td>\n",
              "      <td>Energy</td>\n",
              "      <td>2002-05-11</td>\n",
              "      <td>5.44</td>\n",
              "      <td>5.58</td>\n",
              "      <td>5.36</td>\n",
              "      <td>6.1</td>\n",
              "      <td>0.0</td>\n",
              "      <td>0.0</td>\n",
              "      <td>2813.0</td>\n",
              "      <td>17100.0</td>\n",
              "      <td>1.0</td>\n",
              "    </tr>\n",
              "  </tbody>\n",
              "</table>\n",
              "</div>"
            ],
            "text/plain": [
              "     trading_name  sectoer  ... value_traded  no_trades \n",
              "4434         SARCO  Energy  ...      17100.0         1.0\n",
              "\n",
              "[1 rows x 12 columns]"
            ]
          },
          "metadata": {
            "tags": []
          },
          "execution_count": 56
        }
      ]
    },
    {
      "cell_type": "code",
      "metadata": {
        "colab": {
          "base_uri": "https://localhost:8080/"
        },
        "id": "f9k0X049T2sy",
        "outputId": "8213c9ec-ab00-4eaa-c497-d2ac819d3794"
      },
      "source": [
        "# SVR trial (Just a trial)\n",
        "days = []\n",
        "close = []\n",
        "\n",
        "df_days = df_trial.loc[:, 'date']\n",
        "df_close = df_trial.loc[:, 'close']\n",
        "\n",
        "for day in df_days:\n",
        "    days.append([int(day.split('-')[2])])\n",
        "\n",
        "for close_price in df_close:\n",
        "    close.append(float(close_price))\n",
        "\n",
        "svr_with_radial_kernel = SVR(kernel='rbf', C=1000.0, gamma=0.15)\n",
        "svr_with_radial_kernel.fit(days, close)"
      ],
      "execution_count": null,
      "outputs": [
        {
          "output_type": "execute_result",
          "data": {
            "text/plain": [
              "SVR(C=1000.0, cache_size=200, coef0=0.0, degree=3, epsilon=0.1, gamma=0.15,\n",
              "    kernel='rbf', max_iter=-1, shrinking=True, tol=0.001, verbose=False)"
            ]
          },
          "metadata": {
            "tags": []
          },
          "execution_count": 46
        }
      ]
    },
    {
      "cell_type": "code",
      "metadata": {
        "colab": {
          "base_uri": "https://localhost:8080/",
          "height": 483
        },
        "id": "TRMeoHcXUBKs",
        "outputId": "48d9298d-52d9-442f-8006-66500c645966"
      },
      "source": [
        "plt.figure(figsize=(16, 8))\n",
        "plt.scatter(days, close, color='red', label='Data')\n",
        "plt.plot(days, svr_with_radial_kernel.predict(days), color='green', label='RBF model')\n",
        "plt.legend()\n",
        "plt.show()"
      ],
      "execution_count": null,
      "outputs": [
        {
          "output_type": "display_data",
          "data": {
            "image/png": "[encoded data removed]",
            "text/plain": [
              "<Figure size 1152x576 with 1 Axes>"
            ]
          },
          "metadata": {
            "tags": [],
            "needs_background": "light"
          }
        }
      ]
    },
    {
      "cell_type": "code",
      "metadata": {
        "colab": {
          "base_uri": "https://localhost:8080/"
        },
        "id": "Ru2Nsl5ZUfdO",
        "outputId": "60d23021-130a-47a4-d126-3c433c804293"
      },
      "source": [
        "predicted_date = [[4434]]\n",
        "print(\"The predicted date is: \", svr_with_radial_kernel.predict(predicted_date))"
      ],
      "execution_count": null,
      "outputs": [
        {
          "output_type": "stream",
          "text": [
            "The predicted date is:  [5.96438079]\n"
          ],
          "name": "stdout"
        }
      ]
    },
    {
      "cell_type": "markdown",
      "metadata": {
        "id": "AR2lMhfuGpCh"
      },
      "source": [
        "**Support Vector Regression** - Prediction using Support Vector Prediction"
      ]
    },
    {
      "cell_type": "code",
      "metadata": {
        "id": "Nr_hFUcG5dzV",
        "colab": {
          "base_uri": "https://localhost:8080/"
        },
        "outputId": "1f3340a6-d9df-476e-91ba-1bd56fcf8edd"
      },
      "source": [
        "# SVR actual\n",
        "df = df.sort_values('date')\n",
        "# Storing the 'close' values to the x variable and the y variable.\n",
        "x = y = df['close']\n",
        "\n",
        "X = []\n",
        "# Storing every rows of the dataset except the last 30.\n",
        "x = x.head(len(x) - 30)\n",
        "# Shifting the dataset 30 rows upwards, leaving the last 30 rows empty.\n",
        "y = y.shift(-30)\n",
        "# Removing the last 30 empty rows.\n",
        "y = y.head(len(y) - 30)\n",
        "\n",
        "for i in x:\n",
        "  X.append([i])\n",
        "\n",
        "# Splitting the dataset into 30 percent of testing and 70 percent of training.\n",
        "x_train, x_test, y_train, y_test = train_test_split(X, y, test_size=0.3)\n",
        "\n",
        "# Creating an SVR model.\n",
        "svr_with_radial_kernel = SVR(kernel='rbf', C=1e3, gamma=0.1) \n",
        "# Fitting the SVR model with training data.\n",
        "svr_with_radial_kernel.fit(x_train, y_train)\n",
        "# Calculating the coefficient of determination. \n",
        "svm_confidence = svr_with_radial_kernel.score(x_test, y_test)\n",
        "# Printing the coefficient of determination.\n",
        "print(\"svm confidence: \", svm_confidence)"
      ],
      "execution_count": 150,
      "outputs": [
        {
          "output_type": "stream",
          "text": [
            "svm confidence:  0.8019447272663218\n"
          ],
          "name": "stdout"
        }
      ]
    },
    {
      "cell_type": "code",
      "metadata": {
        "colab": {
          "base_uri": "https://localhost:8080/"
        },
        "id": "vghJgsog9Slp",
        "outputId": "813298c8-0c45-4417-da3c-e96ac7e4810c"
      },
      "source": [
        "# Storing the last 30 rows into the variable 'x_last_30_rows'.\r\n",
        "x_last_30_rows = df['close'].tail(30)\r\n",
        "# Storing the indexes of the dataframe 'x_last_30_rows' into the index variable.\r\n",
        "index = x_last_30_rows.index.to_list()\r\n",
        "# An array to store the the last 30 values in 2D array form.\r\n",
        "x_30 = []\r\n",
        "\r\n",
        "for i in x_last_30_rows:\r\n",
        "  x_30.append([i])\r\n",
        "\r\n",
        "# Printing the last 30 rows.\r\n",
        "print(x_last_30_rows)\r\n",
        "\r\n",
        "# Predicting the stock price of the next 30 days.\r\n",
        "svm_prediction = svr_with_radial_kernel.predict(x_30)\r\n",
        "print(svm_prediction)\r\n",
        "\r\n"
      ],
      "execution_count": 151,
      "outputs": [
        {
          "output_type": "stream",
          "text": [
            "29    48.00\n",
            "28    48.00\n",
            "27    47.75\n",
            "26    48.00\n",
            "25    48.40\n",
            "24    52.00\n",
            "23    49.95\n",
            "22    51.10\n",
            "21    50.00\n",
            "20    52.20\n",
            "19    53.70\n",
            "18    49.50\n",
            "17    49.50\n",
            "16    44.55\n",
            "15    40.10\n",
            "14    38.70\n",
            "13    38.80\n",
            "12    38.55\n",
            "11    39.20\n",
            "10    39.15\n",
            "9     38.80\n",
            "8     36.35\n",
            "7     36.85\n",
            "6     36.85\n",
            "5     36.60\n",
            "4     34.55\n",
            "3     34.00\n",
            "2     35.05\n",
            "1     35.30\n",
            "0     34.90\n",
            "Name: close, dtype: float64\n",
            "[47.12827445 47.12827445 46.45151189 47.12827445 48.15525819 50.1414053\n",
            " 51.32501224 51.23178241 51.38640077 50.19030808 56.67390288 50.59399821\n",
            " 50.59399821 42.91592218 40.98905373 39.08169552 39.25054803 38.80804486\n",
            " 39.83710743 39.76989537 39.25054803 34.90711727 35.23108873 35.23108873\n",
            " 35.00651361 34.2057516  33.50622907 34.7658604  34.91298962 34.62984365]\n"
          ],
          "name": "stdout"
        }
      ]
    },
    {
      "cell_type": "code",
      "metadata": {
        "id": "OmocSxvD0xEl",
        "colab": {
          "base_uri": "https://localhost:8080/",
          "height": 265
        },
        "outputId": "d835b65d-1523-4097-fb1a-29f6e9e8c54f"
      },
      "source": [
        "# Plotting the predicted value against the actual value.\r\n",
        "predicted_value, = plt.plot(index, svm_prediction)\r\n",
        "actual_value, = plt.plot(index, x_last_30_rows)\r\n",
        "l1 = plt.legend([predicted_value, actual_value], [\"predicted\", \"actual\"], loc='upper left')\r\n",
        "# plt.ylim([5, 20])"
      ],
      "execution_count": 152,
      "outputs": [
        {
          "output_type": "display_data",
          "data": {
            "image/png": "[encoded data removed]",
            "text/plain": [
              "<Figure size 432x288 with 1 Axes>"
            ]
          },
          "metadata": {
            "tags": [],
            "needs_background": "light"
          }
        }
      ]
    },
    {
      "cell_type": "markdown",
      "metadata": {
        "id": "MqZ3hM_0ajHO"
      },
      "source": [
        "**Keras Long Short-Term Memory (LSTM)** Prediction using  Averaging Mechanism"
      ]
    },
    {
      "cell_type": "code",
      "metadata": {
        "id": "BgsQ_Tj0Z0wQ"
      },
      "source": [
        "# Split Data to train and test set\r\n",
        "\r\n",
        "# Convert the dataframe to Numpy-array representation\r\n",
        "high_prices = df.loc[:,'high'].to_numpy()\r\n",
        "low_prices = df.loc[:,'low'].to_numpy()\r\n",
        "mid_prices = (high_prices + low_prices)/2.0\r\n",
        "\r\n",
        "lstm_train_data = mid_prices[:3100]\r\n",
        "lstm_test_data = mid_prices[3100:]"
      ],
      "execution_count": 98,
      "outputs": []
    },
    {
      "cell_type": "code",
      "metadata": {
        "id": "w-mpMJQEgGLU"
      },
      "source": [
        "# Normalizing the data\r\n",
        "scaler = MinMaxScaler()\r\n",
        "lstm_train_data = lstm_train_data.reshape(-1,1)\r\n",
        "lstm_test_data = lstm_test_data.reshape(-1,1)\r\n",
        "\r\n",
        "# Train the MinMaxScaler with training and smooth data\r\n",
        "smoothing_window_size = 2000\r\n",
        "for di in range(0,2000,smoothing_window_size):\r\n",
        "    scaler.fit(lstm_train_data[di:di+smoothing_window_size,:])\r\n",
        "    lstm_train_data[di:di+smoothing_window_size,:] = scaler.transform(lstm_train_data[di:di+smoothing_window_size,:])\r\n",
        "\r\n",
        "# Normalize the last bit of remaining data\r\n",
        "scaler.fit(lstm_train_data[di+smoothing_window_size:,:])\r\n",
        "lstm_train_data[di+smoothing_window_size:,:] = scaler.transform(lstm_train_data[di+smoothing_window_size:,:])\r\n",
        "\r\n",
        "# Reshape both train and test data\r\n",
        "lstm_train_data = lstm_train_data.reshape(-1)\r\n",
        "\r\n",
        "# Normalize test data\r\n",
        "lstm_test_data = scaler.transform(lstm_test_data).reshape(-1)"
      ],
      "execution_count": 79,
      "outputs": []
    },
    {
      "cell_type": "code",
      "metadata": {
        "id": "ETM3nu1Nn8qc"
      },
      "source": [
        "# Now perform exponential moving average smoothing\r\n",
        "# So the data will have a smoother curve than the original ragged data\r\n",
        "EMA = 0.0\r\n",
        "gamma = 0.2\r\n",
        "for ti in range(3100):\r\n",
        "  EMA = gamma*lstm_train_data[ti] + (1-gamma)*EMA\r\n",
        "  lstm_train_data[ti] = EMA\r\n",
        "\r\n",
        "# Used for visualization and test purposes\r\n",
        "all_mid_data = np.concatenate([lstm_train_data,lstm_test_data],axis=0)"
      ],
      "execution_count": 80,
      "outputs": []
    },
    {
      "cell_type": "markdown",
      "metadata": {
        "id": "H9VPGh-aoKlJ"
      },
      "source": [
        "Calculate the Mean Squared Error (MSE)"
      ]
    },
    {
      "cell_type": "code",
      "metadata": {
        "colab": {
          "base_uri": "https://localhost:8080/"
        },
        "id": "nPIiX5RooDIi",
        "outputId": "1bf98650-9c22-4640-c5db-698faf15a448"
      },
      "source": [
        "window_size = 25\r\n",
        "N = lstm_train_data.size\r\n",
        "std_avg_predictions = []\r\n",
        "std_avg_x = []\r\n",
        "mse_errors = []\r\n",
        "\r\n",
        "for pred_idx in range(window_size,N):\r\n",
        "\r\n",
        "    if pred_idx >= N:\r\n",
        "        date = dt.datetime.strptime(k, '%Y-%m-%d').date() + dt.timedelta(days=1)\r\n",
        "    else:\r\n",
        "        date = df.loc[pred_idx,'date']\r\n",
        "\r\n",
        "    std_avg_predictions.append(np.mean(lstm_train_data[pred_idx-window_size:pred_idx]))\r\n",
        "    mse_errors.append((std_avg_predictions[-1]-lstm_train_data[pred_idx])**2)\r\n",
        "    std_avg_x.append(date)\r\n",
        "\r\n",
        "print('MSE error for standard averaging: %.5f'%(0.5*np.mean(mse_errors)))"
      ],
      "execution_count": 81,
      "outputs": [
        {
          "output_type": "stream",
          "text": [
            "MSE error for standard averaging: 0.00110\n"
          ],
          "name": "stdout"
        }
      ]
    },
    {
      "cell_type": "code",
      "metadata": {
        "colab": {
          "base_uri": "https://localhost:8080/",
          "height": 497
        },
        "id": "Pn6mZ2dyodMM",
        "outputId": "628734f7-ff13-48c6-d51d-5475c48d0597"
      },
      "source": [
        "plt.figure(figsize = (16,8))\r\n",
        "plt.plot(range(df.shape[0]),all_mid_data,color='b',label='True')\r\n",
        "plt.plot(range(window_size,N),std_avg_predictions,color='orange',label='Prediction')\r\n",
        "#plt.xticks(range(0,df.shape[0],50),df['Date'].loc[::50],rotation=45)\r\n",
        "# plt.xlim([0, 4000])\r\n",
        "# plt.ylim([0, 12000])\r\n",
        "plt.xlabel('Date')\r\n",
        "plt.ylabel('Mid Price')\r\n",
        "plt.legend(fontsize=18)\r\n",
        "plt.show()"
      ],
      "execution_count": 82,
      "outputs": [
        {
          "output_type": "display_data",
          "data": {
            "image/png": "[encoded data removed]",
            "text/plain": [
              "<Figure size 1152x576 with 1 Axes>"
            ]
          },
          "metadata": {
            "tags": [],
            "needs_background": "light"
          }
        }
      ]
    },
    {
      "cell_type": "markdown",
      "metadata": {
        "id": "SqU3SKkwbC_-"
      },
      "source": [
        "**Keras Long Short-Term Memory (LSTM)** Prediction Using Keras LSTM"
      ]
    },
    {
      "cell_type": "code",
      "metadata": {
        "id": "EuoNFUNWDlF5"
      },
      "source": [
        "# LSTM Trial\r\n",
        "import keras\r\n",
        "from keras.models import Sequential\r\n",
        "from keras.layers import *\r\n",
        "from sklearn.metrics import mean_squared_error\r\n",
        "from sklearn.metrics import mean_absolute_error\r\n",
        "from keras.callbacks import EarlyStopping"
      ],
      "execution_count": 99,
      "outputs": []
    },
    {
      "cell_type": "code",
      "metadata": {
        "id": "-o7nGRtEEG5h",
        "colab": {
          "base_uri": "https://localhost:8080/"
        },
        "outputId": "47af1e28-b812-49f0-90dd-6bb3e72f81e9"
      },
      "source": [
        "# training_set = df.iloc[:3100, 6:7].values\r\n",
        "# test_set = df.iloc[3100:, 6:7].values\r\n",
        "\r\n",
        "high_prices = df.loc[:,'high']\r\n",
        "low_prices = df.loc[:,'low']\r\n",
        "mid_prices = (high_prices + low_prices)/2.0\r\n",
        "\r\n",
        "training_set_ = mid_prices[:3100].values\r\n",
        "test_set_ = mid_prices[3100:].values\r\n",
        "\r\n",
        "training_set = []\r\n",
        "test_set = []\r\n",
        "\r\n",
        "for i in training_set_:\r\n",
        "  training_set.append([i])\r\n",
        "\r\n",
        "for i in test_set_:\r\n",
        "  test_set.append([i])\r\n",
        "\r\n",
        "training_set = np.array(training_set)\r\n",
        "test_set = np.array(test_set)\r\n",
        "\r\n",
        "# Alternative way of writing the above code\r\n",
        "# df = df['close']\r\n",
        "# training_set = df.head(3100)\r\n",
        "# testing_set = df.tail(len(df) - 3100)"
      ],
      "execution_count": 142,
      "outputs": [
        {
          "output_type": "stream",
          "text": [
            "[[ 6.3 ]\n",
            " [ 5.8 ]\n",
            " [ 5.8 ]\n",
            " ...\n",
            " [85.09]\n",
            " [84.8 ]\n",
            " [84.79]]\n",
            "[[ 5.67]\n",
            " [ 5.17]\n",
            " [ 5.17]\n",
            " ...\n",
            " [84.46]\n",
            " [84.17]\n",
            " [84.16]]\n"
          ],
          "name": "stdout"
        }
      ]
    },
    {
      "cell_type": "code",
      "metadata": {
        "colab": {
          "base_uri": "https://localhost:8080/"
        },
        "id": "NQs0t6S2H_f7",
        "outputId": "aab24d9a-18c1-42ac-f384-9e3722b07276"
      },
      "source": [
        "# Feature Scaling\r\n",
        "sc = MinMaxScaler(feature_range = (0, 1))\r\n",
        "training_set_scaled = sc.fit_transform(training_set)\r\n",
        "print(training_set_scaled[13, 0])\r\n",
        "print(training_set_scaled[0:60, 0])\r\n",
        "print(training_set_scaled[6, 0])\r\n",
        "\r\n",
        "# Creating a data structure with 60 time-steps and 1 output\r\n",
        "X_train = []\r\n",
        "y_train = []\r\n",
        "for i in range(60, 3100):\r\n",
        "    X_train.append(training_set_scaled[i-60:i, 0])\r\n",
        "    y_train.append(training_set_scaled[i, 0])\r\n",
        "X_train, y_train = np.array(X_train), np.array(y_train)\r\n",
        "X_train = np.reshape(X_train, (X_train.shape[0], X_train.shape[1], 1))\r\n",
        "print(X_train.shape) "
      ],
      "execution_count": 119,
      "outputs": [
        {
          "output_type": "stream",
          "text": [
            "0.0033041047147032657\n",
            "[0.00381243 0.00254162 0.00254162 0.00279578 0.00279578 0.00279578\n",
            " 0.00279578 0.00279578 0.00279578 0.00279578 0.00279578 0.00279578\n",
            " 0.00279578 0.0033041  0.00279578 0.00279578 0.00279578 0.00279578\n",
            " 0.00254162 0.00254162 0.00254162 0.0033041  0.0033041  0.0033041\n",
            " 0.00279578 0.00177913 0.00304994 0.00279578 0.00304994 0.00304994\n",
            " 0.00177913 0.00304994 0.00304994 0.00304994 0.00304994 0.00304994\n",
            " 0.00304994 0.00304994 0.00279578 0.00279578 0.00254162 0.00279578\n",
            " 0.0033041  0.00432075 0.00432075 0.00432075 0.00432075 0.00432075\n",
            " 0.0033041  0.0033041  0.0033041  0.0033041  0.0033041  0.00381243\n",
            " 0.00381243 0.00381243 0.00381243 0.00381243 0.00381243 0.00381243]\n",
            "0.002795780912441226\n",
            "(3040, 60, 1)\n"
          ],
          "name": "stdout"
        }
      ]
    },
    {
      "cell_type": "code",
      "metadata": {
        "colab": {
          "base_uri": "https://localhost:8080/"
        },
        "id": "M1d7x7N9JA8j",
        "outputId": "6b1487d8-9ffc-4d67-887b-ae803b2dd566"
      },
      "source": [
        "# LSTM Training\r\n",
        "\r\n",
        "model = Sequential()\r\n",
        "# The first LSTM layer\r\n",
        "model.add(LSTM(units = 50, return_sequences = True, input_shape = (X_train.shape[1], 1)))\r\n",
        "model.add(Dropout(0.2))\r\n",
        "# Adding a second LSTM layer and some Dropout regularisation\r\n",
        "model.add(LSTM(units = 50, return_sequences = True))\r\n",
        "model.add(Dropout(0.2))\r\n",
        "# Adding a third LSTM layer and some Dropout regularisation\r\n",
        "model.add(LSTM(units = 50, return_sequences = True))\r\n",
        "model.add(Dropout(0.2))\r\n",
        "# Adding a fourth LSTM layer and some Dropout regularisation\r\n",
        "model.add(LSTM(units = 50))\r\n",
        "model.add(Dropout(0.2))\r\n",
        "# Adding the output layer\r\n",
        "model.add(Dense(units = 1))\r\n",
        "\r\n",
        "# Compiling the RNN\r\n",
        "model.compile(optimizer = 'adam', loss = 'mean_squared_error')\r\n",
        "\r\n",
        "# Fitting the RNN to the Training set\r\n",
        "model.fit(X_train, y_train, epochs = 10, batch_size = 32)"
      ],
      "execution_count": 120,
      "outputs": [
        {
          "output_type": "stream",
          "text": [
            "Epoch 1/10\n",
            "95/95 [==============================] - 12s 76ms/step - loss: 0.0097\n",
            "Epoch 2/10\n",
            "95/95 [==============================] - 7s 78ms/step - loss: 0.0020\n",
            "Epoch 3/10\n",
            "95/95 [==============================] - 7s 78ms/step - loss: 0.0017\n",
            "Epoch 4/10\n",
            "95/95 [==============================] - 7s 78ms/step - loss: 0.0020\n",
            "Epoch 5/10\n",
            "95/95 [==============================] - 8s 80ms/step - loss: 0.0017\n",
            "Epoch 6/10\n",
            "95/95 [==============================] - 7s 79ms/step - loss: 0.0014\n",
            "Epoch 7/10\n",
            "95/95 [==============================] - 8s 80ms/step - loss: 0.0015\n",
            "Epoch 8/10\n",
            "95/95 [==============================] - 8s 80ms/step - loss: 0.0013\n",
            "Epoch 9/10\n",
            "95/95 [==============================] - 8s 81ms/step - loss: 0.0011\n",
            "Epoch 10/10\n",
            "95/95 [==============================] - 8s 81ms/step - loss: 0.0011\n"
          ],
          "name": "stdout"
        },
        {
          "output_type": "execute_result",
          "data": {
            "text/plain": [
              "<tensorflow.python.keras.callbacks.History at 0x7f1dd83da240>"
            ]
          },
          "metadata": {
            "tags": []
          },
          "execution_count": 120
        }
      ]
    },
    {
      "cell_type": "code",
      "metadata": {
        "colab": {
          "base_uri": "https://localhost:8080/"
        },
        "id": "qP3IoEpuJA-T",
        "outputId": "0a47f68a-673b-47e2-851e-296f7c486661"
      },
      "source": [
        "high_prices = df.loc[:,'high']\r\n",
        "low_prices = df.loc[:,'low']\r\n",
        "mid_prices = (high_prices + low_prices)/2.0\r\n",
        "\r\n",
        "dataset_train = mid_prices[:3100]\r\n",
        "dataset_test = mid_prices[3100:]\r\n",
        "\r\n",
        "# dataset_train = df.iloc[:3100, 6:7]\r\n",
        "# dataset_test = df.iloc[3100:, 6:7]\r\n",
        "\r\n",
        "dataset_total = pd.concat((dataset_train, dataset_test), axis = 0)\r\n",
        "print(dataset_train)\r\n",
        "print(dataset_test)\r\n",
        "inputs = dataset_total[len(dataset_total) - len(dataset_test) - 60:].values\r\n",
        "inputs = inputs.reshape(-1,1)\r\n",
        "inputs = sc.transform(inputs)\r\n",
        "X_test = []\r\n",
        "for i in range(60, len(test_set)):\r\n",
        "    X_test.append(inputs[i-60:i, 0])\r\n",
        "X_test = np.array(X_test)\r\n",
        "X_test = np.reshape(X_test, (X_test.shape[0], X_test.shape[1], 1))\r\n",
        "print(X_test.shape)"
      ],
      "execution_count": null,
      "outputs": [
        {
          "output_type": "stream",
          "text": [
            "4457     5.67\n",
            "4456     5.17\n",
            "4455     5.17\n",
            "4454     5.27\n",
            "4453     5.27\n",
            "        ...  \n",
            "1362    83.40\n",
            "1361    82.93\n",
            "1360    84.46\n",
            "1359    84.17\n",
            "1358    84.16\n",
            "Length: 3100, dtype: float64\n",
            "1357    84.14\n",
            "1356    83.21\n",
            "1355    81.64\n",
            "1354    73.62\n",
            "1353    76.39\n",
            "        ...  \n",
            "4       33.92\n",
            "3       33.37\n",
            "2       34.42\n",
            "1       34.67\n",
            "0       34.27\n",
            "Length: 1358, dtype: float64\n",
            "(1298, 60, 1)\n"
          ],
          "name": "stdout"
        }
      ]
    },
    {
      "cell_type": "code",
      "metadata": {
        "id": "Gv2FSQ50JS4e",
        "colab": {
          "base_uri": "https://localhost:8080/"
        },
        "outputId": "698dfd33-1314-407a-f8e9-0a9ffbd00417"
      },
      "source": [
        "predicted_stock_price = model.predict(X_test)\r\n",
        "predicted_stock_price = sc.inverse_transform(predicted_stock_price)\r\n",
        "print(predicted_stock_price[1268:len(predicted_stock_price)])"
      ],
      "execution_count": null,
      "outputs": [
        {
          "output_type": "stream",
          "text": [
            "[[39.202312]\n",
            " [39.148277]\n",
            " [39.111027]\n",
            " [39.095467]\n",
            " [39.09844 ]\n",
            " [39.109737]\n",
            " [39.129215]\n",
            " [39.183243]\n",
            " [39.28997 ]\n",
            " [39.452213]\n",
            " [39.660595]\n",
            " [39.887657]\n",
            " [40.104855]\n",
            " [40.293827]\n",
            " [40.455635]\n",
            " [40.617306]\n",
            " [40.784496]\n",
            " [40.94542 ]\n",
            " [41.08561 ]\n",
            " [41.203655]\n",
            " [41.316044]\n",
            " [41.451954]\n",
            " [41.635693]\n",
            " [41.851578]\n",
            " [42.08658 ]\n",
            " [42.32237 ]\n",
            " [42.555954]\n",
            " [42.76946 ]\n",
            " [42.94607 ]\n",
            " [43.082268]]\n"
          ],
          "name": "stdout"
        }
      ]
    },
    {
      "cell_type": "code",
      "metadata": {
        "colab": {
          "base_uri": "https://localhost:8080/",
          "height": 312
        },
        "id": "xQ0_cs4mJWS1",
        "outputId": "caf6736a-26d0-42df-87e4-f54d863609f3"
      },
      "source": [
        "# df.loc[3040:, 'date']\r\n",
        "plt.plot(dataset_test.values, color = 'red', label = 'Real SARCO Stock Price')\r\n",
        "plt.plot(predicted_stock_price, color = 'blue', label = 'Predicted SARCO Stock Price')\r\n",
        "\r\n",
        "plt.xticks(np.arange(0,1298,300))\r\n",
        "plt.title('SARCO Stock Price Prediction')\r\n",
        "plt.xlabel('Time')\r\n",
        "plt.ylabel('SARCO Stock Price')\r\n",
        "plt.legend()\r\n",
        "plt.show()"
      ],
      "execution_count": null,
      "outputs": [
        {
          "output_type": "stream",
          "text": [
            "60\n"
          ],
          "name": "stdout"
        },
        {
          "output_type": "display_data",
          "data": {
            "image/png": "[encoded data removed]",
            "text/plain": [
              "<Figure size 432x288 with 1 Axes>"
            ]
          },
          "metadata": {
            "tags": [],
            "needs_background": "light"
          }
        }
      ]
    }
  ]
}